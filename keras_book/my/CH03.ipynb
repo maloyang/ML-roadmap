{
 "cells": [
  {
   "cell_type": "code",
   "execution_count": null,
   "metadata": {},
   "outputs": [],
   "source": []
  },
  {
   "cell_type": "markdown",
   "metadata": {},
   "source": [
    "### ch3-2 Keras 簡介\n",
    "\n",
    "- Keras 採用 MIT 條款\n",
    "- Keras的架構：\n",
    "    ```\n",
    "    |----------------------------------|\n",
    "    |             Keras                |\n",
    "    |----------------------------------|\n",
    "    | TensorFlow / Theano / CNTK / ... |\n",
    "    |----------------------------------|\n",
    "    | (CUDA / cuDNN)  |  (BLAS, Eigen) |\n",
    "    |----------------------------------|\n",
    "    | (GPU)           |  (CPU)         |\n",
    "    |----------------------------------|\n",
    "    ```\n",
    "    \n",
    "- Theano: Montreal大學 MILA 實驗室開發的\n",
    "- TensorFlow: Google開發的\n",
    "- GNTK: Microsoft開發的\n"
   ]
  },
  {
   "cell_type": "markdown",
   "metadata": {},
   "source": [
    "### ch3-3 建立環境\n",
    "\n",
    "- 主要使用Keras + tensorFlow (也可以是CNTK or Theano)\n",
    "- 之前要用Ubuntu來安裝比較好，但目前(2019-11-12)在windows下安裝已順了\n",
    "- 建議用NVIDIA的GPU\n",
    "\n",
    "\n",
    "----\n",
    "\n",
    "#### 我的安裝方式:\n",
    "\n",
    "- 參考這一篇不錯 [link](http://wangwangtc.blogspot.com/2019/06/keras.html)\n",
    "\n",
    "- 先打開anaconda navigator\n",
    "- 在enviroments輸入tensorflow，按Create建立一個tensorflow要用的新環境 (跟base分開的)\n",
    "- 點選「tensorflow」後，在右邊欄選`not installed`，在search輸入keras，選keras，再點下放的apply，就會找到相關套件(keras預設會把tensorflow一起裝)。在清單中再點apply就可以把keras裝好了\n",
    "\n",
    "- --> 最後在keras的書的ch2的第一個demo這個anaconda的配置就error\n",
    "- 參考這個看看有沒有解: http://beanobody.blogspot.com/2019/04/module-tensorflow-has-no-attribute.html\n",
    "\n",
    "#### 採用Jumbo提供的安裝指令\n",
    "\n",
    "- 前提是先安裝Anaconda\n",
    "\n",
    "- 再以下面的指定建立環境\n",
    "```\n",
    "conda create -n cv python=3.7\n",
    "activate cv\n",
    "pip install -r requirements.txt\n",
    "```\n",
    "\n",
    "- 其中 requirements.txt 的內容為：\n",
    "```\n",
    "numpy==1.17.3\n",
    "matplotlib==3.1.1\n",
    "Cython==0.29.13\n",
    "opencv-contrib-python==4.1.1.26\n",
    "opencv-python==4.1.1.26\n",
    "h5py==2.10.0\n",
    "jupyter==1.0.0\n",
    "pandas==0.25.2\n",
    "scikit-learn==0.21.3\n",
    "scipy==1.3.1\n",
    "seaborn==0.9.0\n",
    "tensorflow==2.0.0\n",
    "Keras==2.3.1\n",
    "```"
   ]
  },
  {
   "cell_type": "markdown",
   "metadata": {},
   "source": [
    "## ch3-4 二元分類\n",
    "2019-11-14\n",
    "\n",
    "- IMDB資料集 (由IMDb的網路資料庫來的)"
   ]
  },
  {
   "cell_type": "code",
   "execution_count": 1,
   "metadata": {},
   "outputs": [
    {
     "name": "stderr",
     "output_type": "stream",
     "text": [
      "Using TensorFlow backend.\n"
     ]
    },
    {
     "name": "stdout",
     "output_type": "stream",
     "text": [
      "Downloading data from https://s3.amazonaws.com/text-datasets/imdb.npz\n",
      "17465344/17464789 [==============================] - 92s 5us/step\n"
     ]
    }
   ],
   "source": [
    "from keras.datasets import imdb\n",
    "\n",
    "(train_data, train_labels), (test_data, test_labels) = imdb.load_data(num_words=10000)"
   ]
  },
  {
   "cell_type": "code",
   "execution_count": 3,
   "metadata": {},
   "outputs": [
    {
     "data": {
      "text/plain": [
       "([1,\n",
       "  14,\n",
       "  22,\n",
       "  16,\n",
       "  43,\n",
       "  530,\n",
       "  973,\n",
       "  1622,\n",
       "  1385,\n",
       "  65,\n",
       "  458,\n",
       "  4468,\n",
       "  66,\n",
       "  3941,\n",
       "  4,\n",
       "  173,\n",
       "  36,\n",
       "  256,\n",
       "  5,\n",
       "  25,\n",
       "  100,\n",
       "  43,\n",
       "  838,\n",
       "  112,\n",
       "  50,\n",
       "  670,\n",
       "  2,\n",
       "  9,\n",
       "  35,\n",
       "  480,\n",
       "  284,\n",
       "  5,\n",
       "  150,\n",
       "  4,\n",
       "  172,\n",
       "  112,\n",
       "  167,\n",
       "  2,\n",
       "  336,\n",
       "  385,\n",
       "  39,\n",
       "  4,\n",
       "  172,\n",
       "  4536,\n",
       "  1111,\n",
       "  17,\n",
       "  546,\n",
       "  38,\n",
       "  13,\n",
       "  447,\n",
       "  4,\n",
       "  192,\n",
       "  50,\n",
       "  16,\n",
       "  6,\n",
       "  147,\n",
       "  2025,\n",
       "  19,\n",
       "  14,\n",
       "  22,\n",
       "  4,\n",
       "  1920,\n",
       "  4613,\n",
       "  469,\n",
       "  4,\n",
       "  22,\n",
       "  71,\n",
       "  87,\n",
       "  12,\n",
       "  16,\n",
       "  43,\n",
       "  530,\n",
       "  38,\n",
       "  76,\n",
       "  15,\n",
       "  13,\n",
       "  1247,\n",
       "  4,\n",
       "  22,\n",
       "  17,\n",
       "  515,\n",
       "  17,\n",
       "  12,\n",
       "  16,\n",
       "  626,\n",
       "  18,\n",
       "  2,\n",
       "  5,\n",
       "  62,\n",
       "  386,\n",
       "  12,\n",
       "  8,\n",
       "  316,\n",
       "  8,\n",
       "  106,\n",
       "  5,\n",
       "  4,\n",
       "  2223,\n",
       "  5244,\n",
       "  16,\n",
       "  480,\n",
       "  66,\n",
       "  3785,\n",
       "  33,\n",
       "  4,\n",
       "  130,\n",
       "  12,\n",
       "  16,\n",
       "  38,\n",
       "  619,\n",
       "  5,\n",
       "  25,\n",
       "  124,\n",
       "  51,\n",
       "  36,\n",
       "  135,\n",
       "  48,\n",
       "  25,\n",
       "  1415,\n",
       "  33,\n",
       "  6,\n",
       "  22,\n",
       "  12,\n",
       "  215,\n",
       "  28,\n",
       "  77,\n",
       "  52,\n",
       "  5,\n",
       "  14,\n",
       "  407,\n",
       "  16,\n",
       "  82,\n",
       "  2,\n",
       "  8,\n",
       "  4,\n",
       "  107,\n",
       "  117,\n",
       "  5952,\n",
       "  15,\n",
       "  256,\n",
       "  4,\n",
       "  2,\n",
       "  7,\n",
       "  3766,\n",
       "  5,\n",
       "  723,\n",
       "  36,\n",
       "  71,\n",
       "  43,\n",
       "  530,\n",
       "  476,\n",
       "  26,\n",
       "  400,\n",
       "  317,\n",
       "  46,\n",
       "  7,\n",
       "  4,\n",
       "  2,\n",
       "  1029,\n",
       "  13,\n",
       "  104,\n",
       "  88,\n",
       "  4,\n",
       "  381,\n",
       "  15,\n",
       "  297,\n",
       "  98,\n",
       "  32,\n",
       "  2071,\n",
       "  56,\n",
       "  26,\n",
       "  141,\n",
       "  6,\n",
       "  194,\n",
       "  7486,\n",
       "  18,\n",
       "  4,\n",
       "  226,\n",
       "  22,\n",
       "  21,\n",
       "  134,\n",
       "  476,\n",
       "  26,\n",
       "  480,\n",
       "  5,\n",
       "  144,\n",
       "  30,\n",
       "  5535,\n",
       "  18,\n",
       "  51,\n",
       "  36,\n",
       "  28,\n",
       "  224,\n",
       "  92,\n",
       "  25,\n",
       "  104,\n",
       "  4,\n",
       "  226,\n",
       "  65,\n",
       "  16,\n",
       "  38,\n",
       "  1334,\n",
       "  88,\n",
       "  12,\n",
       "  16,\n",
       "  283,\n",
       "  5,\n",
       "  16,\n",
       "  4472,\n",
       "  113,\n",
       "  103,\n",
       "  32,\n",
       "  15,\n",
       "  16,\n",
       "  5345,\n",
       "  19,\n",
       "  178,\n",
       "  32],\n",
       " 1)"
      ]
     },
     "execution_count": 3,
     "metadata": {},
     "output_type": "execute_result"
    }
   ],
   "source": [
    "train_data[0] #每一個元性會是一個list代表一筆評論，每一筆評論的內文是以每個word為單位編號，因此會看到一堆數字，數字愈小的代表是常用字"
   ]
  },
  {
   "cell_type": "code",
   "execution_count": 4,
   "metadata": {},
   "outputs": [
    {
     "data": {
      "text/plain": [
       "1"
      ]
     },
     "execution_count": 4,
     "metadata": {},
     "output_type": "execute_result"
    }
   ],
   "source": [
    "train_labels[0] #因為結果只有二種 (正評, 負評) = (1, 0)"
   ]
  },
  {
   "cell_type": "code",
   "execution_count": 5,
   "metadata": {},
   "outputs": [
    {
     "data": {
      "text/plain": [
       "9999"
      ]
     },
     "execution_count": 5,
     "metadata": {},
     "output_type": "execute_result"
    }
   ],
   "source": [
    "# 找出最大數字 --> 以 List Comprehensions 的語法找出來，比較簡潔，本書作者常用，因此要熟悉它\n",
    "max([max(sequence) for sequence in train_data])"
   ]
  },
  {
   "cell_type": "code",
   "execution_count": 6,
   "metadata": {},
   "outputs": [
    {
     "name": "stdout",
     "output_type": "stream",
     "text": [
      "Downloading data from https://s3.amazonaws.com/text-datasets/imdb_word_index.json\n",
      "1646592/1641221 [==============================] - 7s 4us/step\n"
     ]
    }
   ],
   "source": [
    "# 如果好奇評論是在寫什麼，可以用下面程式將數字還原成英文單字：\n",
    "word_index = imdb.get_word_index()\n",
    "reverse_word_index = dict([(value, key) for (key, value) in word_index.items()])\n",
    "decoded_review = ' '.join([reverse_word_index.get(i-3, '?') for i in train_data[0]]) #i-3是因為load_data()會自動將所有數字+3，因為0~2有特殊用途"
   ]
  },
  {
   "cell_type": "code",
   "execution_count": 7,
   "metadata": {},
   "outputs": [
    {
     "data": {
      "text/plain": [
       "\"? this film was just brilliant casting location scenery story direction everyone's really suited the part they played and you could just imagine being there robert ? is an amazing actor and now the same being director ? father came from the same scottish island as myself so i loved the fact there was a real connection with this film the witty remarks throughout the film were great it was just brilliant so much that i bought the film as soon as it was released for ? and would recommend it to everyone to watch and the fly fishing was amazing really cried at the end it was so sad and you know what they say if you cry at a film it must have been good and this definitely was also ? to the two little boy's that played the ? of norman and paul they were just brilliant children are often left out of the ? list i think because the stars that play them all grown up are such a big profile for the whole film but these children are amazing and should be praised for what they have done don't you think the whole story was so lovely because it was true and was someone's life after all that was shared with us all\""
      ]
     },
     "execution_count": 7,
     "metadata": {},
     "output_type": "execute_result"
    }
   ],
   "source": [
    "decoded_review"
   ]
  },
  {
   "cell_type": "code",
   "execution_count": 18,
   "metadata": {},
   "outputs": [
    {
     "data": {
      "text/plain": [
       "('the', 'and', 'a', 'of')"
      ]
     },
     "execution_count": 18,
     "metadata": {},
     "output_type": "execute_result"
    }
   ],
   "source": [
    "reverse_word_index[1], reverse_word_index[2], reverse_word_index[3], reverse_word_index[4]"
   ]
  },
  {
   "cell_type": "code",
   "execution_count": 16,
   "metadata": {},
   "outputs": [
    {
     "data": {
      "text/plain": [
       "2"
      ]
     },
     "execution_count": 16,
     "metadata": {},
     "output_type": "execute_result"
    }
   ],
   "source": [
    "word_index['and']"
   ]
  },
  {
   "cell_type": "markdown",
   "metadata": {},
   "source": [
    "----\n",
    "- 2019-11-18\n",
    "\n",
    "- ch3-4-2"
   ]
  },
  {
   "cell_type": "code",
   "execution_count": 20,
   "metadata": {},
   "outputs": [],
   "source": [
    "import numpy as np\n",
    "\n",
    "def vectorize_sequences(sequences, dimension=10000):\n",
    "    results = np.zeros((len(sequences), dimension))\n",
    "    for i, sequence in enumerate(sequences):\n",
    "        results[i, sequence] = 1.\n",
    "    return results\n",
    "\n",
    "x_train = vectorize_sequences(train_data)\n",
    "x_test = vectorize_sequences(test_data)\n"
   ]
  },
  {
   "cell_type": "code",
   "execution_count": 27,
   "metadata": {},
   "outputs": [
    {
     "data": {
      "text/plain": [
       "array([0., 1., 1., ..., 0., 0., 0.])"
      ]
     },
     "execution_count": 27,
     "metadata": {},
     "output_type": "execute_result"
    }
   ],
   "source": [
    "x_train[0]"
   ]
  },
  {
   "cell_type": "code",
   "execution_count": 35,
   "metadata": {},
   "outputs": [],
   "source": [
    "y_train = np.asarray(train_labels).astype('float32')\n",
    "y_test = np.asarray(test_labels).astype('float32')"
   ]
  },
  {
   "cell_type": "code",
   "execution_count": 36,
   "metadata": {},
   "outputs": [],
   "source": [
    "from keras import models\n",
    "from keras import layers\n",
    "\n",
    "model = models.Sequential()\n",
    "model.add(layers.Dense(16, activation='relu', input_shape=(10000,)))\n",
    "model.add(layers.Dense(16, activation='relu'))\n",
    "model.add(layers.Dense(1, activation='sigmoid'))"
   ]
  },
  {
   "cell_type": "code",
   "execution_count": 37,
   "metadata": {},
   "outputs": [],
   "source": [
    "model.compile(optimizer='rmsprop', loss='binary_crossentropy', metrics=['accuracy'])"
   ]
  },
  {
   "cell_type": "code",
   "execution_count": 38,
   "metadata": {},
   "outputs": [],
   "source": [
    "# 3-4-4\n",
    "x_val = x_train[:10000]\n",
    "partial_x_train = x_train[10000:]\n",
    "\n",
    "y_val = y_train[:10000]\n",
    "partial_y_train = y_train[10000:]\n"
   ]
  },
  {
   "cell_type": "code",
   "execution_count": 39,
   "metadata": {},
   "outputs": [
    {
     "name": "stdout",
     "output_type": "stream",
     "text": [
      "Train on 15000 samples, validate on 10000 samples\n",
      "Epoch 1/20\n",
      "15000/15000 [==============================] - 3s 197us/step - loss: 0.5238 - acc: 0.8016 - val_loss: 0.4104 - val_acc: 0.8626\n",
      "Epoch 2/20\n",
      "15000/15000 [==============================] - 2s 114us/step - loss: 0.3240 - acc: 0.9020 - val_loss: 0.3398 - val_acc: 0.8678\n",
      "Epoch 3/20\n",
      "15000/15000 [==============================] - 2s 114us/step - loss: 0.2392 - acc: 0.9233 - val_loss: 0.2892 - val_acc: 0.8880\n",
      "Epoch 4/20\n",
      "15000/15000 [==============================] - 2s 115us/step - loss: 0.1891 - acc: 0.9398 - val_loss: 0.2753 - val_acc: 0.8899\n",
      "Epoch 5/20\n",
      "15000/15000 [==============================] - 2s 117us/step - loss: 0.1556 - acc: 0.9505 - val_loss: 0.2762 - val_acc: 0.8882\n",
      "Epoch 6/20\n",
      "15000/15000 [==============================] - 2s 115us/step - loss: 0.1284 - acc: 0.9608 - val_loss: 0.2821 - val_acc: 0.8883\n",
      "Epoch 7/20\n",
      "15000/15000 [==============================] - 2s 114us/step - loss: 0.1078 - acc: 0.9669 - val_loss: 0.3355 - val_acc: 0.8721\n",
      "Epoch 8/20\n",
      "15000/15000 [==============================] - 2s 114us/step - loss: 0.0920 - acc: 0.9741 - val_loss: 0.3146 - val_acc: 0.8839\n",
      "Epoch 9/20\n",
      "15000/15000 [==============================] - 2s 115us/step - loss: 0.0754 - acc: 0.9800 - val_loss: 0.3322 - val_acc: 0.8840\n",
      "Epoch 10/20\n",
      "15000/15000 [==============================] - 2s 115us/step - loss: 0.0643 - acc: 0.9830 - val_loss: 0.3546 - val_acc: 0.8772\n",
      "Epoch 11/20\n",
      "15000/15000 [==============================] - 2s 115us/step - loss: 0.0523 - acc: 0.9877 - val_loss: 0.3794 - val_acc: 0.8750\n",
      "Epoch 12/20\n",
      "15000/15000 [==============================] - 2s 115us/step - loss: 0.0438 - acc: 0.9908 - val_loss: 0.4115 - val_acc: 0.8760\n",
      "Epoch 13/20\n",
      "15000/15000 [==============================] - 2s 115us/step - loss: 0.0331 - acc: 0.9939 - val_loss: 0.4257 - val_acc: 0.8735\n",
      "Epoch 14/20\n",
      "15000/15000 [==============================] - 2s 114us/step - loss: 0.0282 - acc: 0.9945 - val_loss: 0.4544 - val_acc: 0.8723\n",
      "Epoch 15/20\n",
      "15000/15000 [==============================] - 2s 113us/step - loss: 0.0211 - acc: 0.9967 - val_loss: 0.4935 - val_acc: 0.8696\n",
      "Epoch 16/20\n",
      "15000/15000 [==============================] - 2s 115us/step - loss: 0.0169 - acc: 0.9979 - val_loss: 0.5196 - val_acc: 0.8683\n",
      "Epoch 17/20\n",
      "15000/15000 [==============================] - 2s 116us/step - loss: 0.0145 - acc: 0.9977 - val_loss: 0.5536 - val_acc: 0.8672\n",
      "Epoch 18/20\n",
      "15000/15000 [==============================] - 2s 114us/step - loss: 0.0103 - acc: 0.9987 - val_loss: 0.5875 - val_acc: 0.8683\n",
      "Epoch 19/20\n",
      "15000/15000 [==============================] - 2s 118us/step - loss: 0.0086 - acc: 0.9991 - val_loss: 0.6128 - val_acc: 0.8663\n",
      "Epoch 20/20\n",
      "15000/15000 [==============================] - 2s 122us/step - loss: 0.0047 - acc: 0.9999 - val_loss: 0.6512 - val_acc: 0.8644\n"
     ]
    }
   ],
   "source": [
    "# 3.8 訓練模型\n",
    "model.compile(optimizer='rmsprop', loss='binary_crossentropy', metrics=['acc'])\n",
    "history = model.fit(partial_x_train, partial_y_train, epochs=20, batch_size=512, validation_data=(x_val, y_val))"
   ]
  },
  {
   "cell_type": "code",
   "execution_count": 40,
   "metadata": {},
   "outputs": [],
   "source": [
    "history_dict = history.history"
   ]
  },
  {
   "cell_type": "code",
   "execution_count": 43,
   "metadata": {},
   "outputs": [
    {
     "data": {
      "text/plain": [
       "dict_keys(['val_loss', 'val_acc', 'loss', 'acc'])"
      ]
     },
     "execution_count": 43,
     "metadata": {},
     "output_type": "execute_result"
    }
   ],
   "source": [
    "history_dict.keys()"
   ]
  },
  {
   "cell_type": "code",
   "execution_count": 45,
   "metadata": {},
   "outputs": [
    {
     "data": {
      "image/png": "[encoded data removed]",
      "text/plain": [
       "<Figure size 432x288 with 1 Axes>"
      ]
     },
     "metadata": {
      "needs_background": "light"
     },
     "output_type": "display_data"
    }
   ],
   "source": [
    "# 繪製 訓練與驗證的損失分數\n",
    "%matplotlib inline\n",
    "\n",
    "import matplotlib.pyplot as plt\n",
    "\n",
    "history_dict = history.history\n",
    "loss_values = history_dict['loss']\n",
    "val_loss_values = history_dict['val_loss']\n",
    "\n",
    "epochs = range(1, len(loss_values)+1)\n",
    "\n",
    "plt.plot(epochs, loss_values, 'bo', label='Training loss')\n",
    "plt.plot(epochs, val_loss_values, 'b', label='Validation loss')\n",
    "plt.title('Training and validation loss')\n",
    "plt.xlabel('Epochs')\n",
    "plt.ylabel('Loss')\n",
    "plt.legend()\n",
    "\n",
    "plt.show()"
   ]
  },
  {
   "cell_type": "markdown",
   "metadata": {},
   "source": [
    "- 在4個周期後，驗證資料的loss就變的愈來愈大 (雖然在訓練資料是愈來愈好) --> overfitting"
   ]
  },
  {
   "cell_type": "code",
   "execution_count": 46,
   "metadata": {},
   "outputs": [],
   "source": [
    "device_list = []"
   ]
  },
  {
   "cell_type": "code",
   "execution_count": 48,
   "metadata": {},
   "outputs": [],
   "source": [
    "dd = {'power_meter':{'a':1, 'b':2}, 'sun_meter':{'z':1, 'y':2}}\n"
   ]
  },
  {
   "cell_type": "code",
   "execution_count": 49,
   "metadata": {},
   "outputs": [],
   "source": [
    "device_list.append(dd['power_meter'])"
   ]
  },
  {
   "cell_type": "code",
   "execution_count": 51,
   "metadata": {},
   "outputs": [
    {
     "data": {
      "text/plain": [
       "{'z': 1, 'y': 2}"
      ]
     },
     "execution_count": 51,
     "metadata": {},
     "output_type": "execute_result"
    }
   ],
   "source": [
    "dd.pop('sun_meter')"
   ]
  },
  {
   "cell_type": "code",
   "execution_count": 52,
   "metadata": {},
   "outputs": [
    {
     "data": {
      "text/plain": [
       "{'power_meter': {'a': 1, 'b': 2}}"
      ]
     },
     "execution_count": 52,
     "metadata": {},
     "output_type": "execute_result"
    }
   ],
   "source": [
    "dd"
   ]
  },
  {
   "cell_type": "markdown",
   "metadata": {},
   "source": [
    "----\n",
    "- 2019-11-26\n",
    "- ch3-4-5"
   ]
  },
  {
   "cell_type": "code",
   "execution_count": 57,
   "metadata": {},
   "outputs": [
    {
     "name": "stdout",
     "output_type": "stream",
     "text": [
      "Epoch 1/4\n",
      "25000/25000 [==============================] - 2s 78us/step - loss: 0.4632 - accuracy: 0.8272\n",
      "Epoch 2/4\n",
      "25000/25000 [==============================] - 2s 75us/step - loss: 0.2750 - accuracy: 0.9062\n",
      "Epoch 3/4\n",
      "25000/25000 [==============================] - 2s 73us/step - loss: 0.2103 - accuracy: 0.9264\n",
      "Epoch 4/4\n",
      "25000/25000 [==============================] - 2s 76us/step - loss: 0.1745 - accuracy: 0.9390\n",
      "25000/25000 [==============================] - 2s 98us/step\n"
     ]
    }
   ],
   "source": [
    "model = models.Sequential()\n",
    "model.add(layers.Dense(16, activation='relu', input_shape=(10000,)))\n",
    "model.add(layers.Dense(16, activation='relu'))\n",
    "model.add(layers.Dense(1, activation='sigmoid'))\n",
    "\n",
    "model.compile(optimizer='rmsprop', loss='binary_crossentropy', metrics=['accuracy'])\n",
    "\n",
    "model.fit(x_train, y_train, epochs=4, batch_size=512)\n",
    "results = model.evaluate(x_test, y_test)"
   ]
  },
  {
   "cell_type": "code",
   "execution_count": 58,
   "metadata": {},
   "outputs": [
    {
     "data": {
      "text/plain": [
       "[0.2986900279426575, 0.8805199861526489]"
      ]
     },
     "execution_count": 58,
     "metadata": {},
     "output_type": "execute_result"
    }
   ],
   "source": [
    "results #損失分數, 準確度"
   ]
  },
  {
   "cell_type": "code",
   "execution_count": 60,
   "metadata": {},
   "outputs": [],
   "source": [
    "p1 = model.predict(x_test)"
   ]
  },
  {
   "cell_type": "code",
   "execution_count": 72,
   "metadata": {},
   "outputs": [
    {
     "data": {
      "text/plain": [
       "12337"
      ]
     },
     "execution_count": 72,
     "metadata": {},
     "output_type": "execute_result"
    }
   ],
   "source": [
    "p2 = p1[p1>0.4]\n",
    "p2[p2<0.6]\n",
    "len(p2)"
   ]
  },
  {
   "cell_type": "markdown",
   "metadata": {},
   "source": [
    "- 延伸實作"
   ]
  },
  {
   "cell_type": "code",
   "execution_count": 73,
   "metadata": {},
   "outputs": [
    {
     "name": "stdout",
     "output_type": "stream",
     "text": [
      "Epoch 1/4\n",
      "25000/25000 [==============================] - 2s 82us/step - loss: 0.5811 - accuracy: 0.7126\n",
      "Epoch 2/4\n",
      "25000/25000 [==============================] - 2s 76us/step - loss: 0.4139 - accuracy: 0.8943\n",
      "Epoch 3/4\n",
      "25000/25000 [==============================] - 2s 77us/step - loss: 0.2668 - accuracy: 0.9219\n",
      "Epoch 4/4\n",
      "25000/25000 [==============================] - 2s 76us/step - loss: 0.1904 - accuracy: 0.9382\n",
      "25000/25000 [==============================] - 2s 93us/step\n"
     ]
    }
   ],
   "source": [
    "# 再增加二個hidden layer\n",
    "\n",
    "model = models.Sequential()\n",
    "model.add(layers.Dense(16, activation='relu', input_shape=(10000,)))\n",
    "model.add(layers.Dense(16, activation='relu'))\n",
    "model.add(layers.Dense(16, activation='relu'))\n",
    "model.add(layers.Dense(16, activation='relu'))\n",
    "model.add(layers.Dense(1, activation='sigmoid'))\n",
    "\n",
    "model.compile(optimizer='rmsprop', loss='binary_crossentropy', metrics=['accuracy'])\n",
    "\n",
    "model.fit(x_train, y_train, epochs=4, batch_size=512)\n",
    "results = model.evaluate(x_test, y_test)"
   ]
  },
  {
   "cell_type": "code",
   "execution_count": 75,
   "metadata": {},
   "outputs": [
    {
     "data": {
      "text/plain": [
       "[0.3125584250450134, 0.8794800043106079]"
      ]
     },
     "execution_count": 75,
     "metadata": {},
     "output_type": "execute_result"
    }
   ],
   "source": [
    "results #損失分數, 準確度"
   ]
  },
  {
   "cell_type": "code",
   "execution_count": 76,
   "metadata": {},
   "outputs": [
    {
     "name": "stdout",
     "output_type": "stream",
     "text": [
      "Epoch 1/4\n",
      "25000/25000 [==============================] - 2s 86us/step - loss: 0.4253 - accuracy: 0.8214\n",
      "Epoch 2/4\n",
      "25000/25000 [==============================] - 2s 82us/step - loss: 0.2377 - accuracy: 0.9128\n",
      "Epoch 3/4\n",
      "25000/25000 [==============================] - 2s 81us/step - loss: 0.1889 - accuracy: 0.9298\n",
      "Epoch 4/4\n",
      "25000/25000 [==============================] - 2s 81us/step - loss: 0.1537 - accuracy: 0.9442\n",
      "25000/25000 [==============================] - 2s 95us/step\n"
     ]
    },
    {
     "data": {
      "text/plain": [
       "[0.32328700963020324, 0.8761199712753296]"
      ]
     },
     "execution_count": 76,
     "metadata": {},
     "output_type": "execute_result"
    }
   ],
   "source": [
    "# 一樣的hidden layer，但是改為32 unit\n",
    "\n",
    "model = models.Sequential()\n",
    "model.add(layers.Dense(32, activation='relu', input_shape=(10000,)))\n",
    "model.add(layers.Dense(32, activation='relu'))\n",
    "model.add(layers.Dense(1, activation='sigmoid'))\n",
    "\n",
    "model.compile(optimizer='rmsprop', loss='binary_crossentropy', metrics=['accuracy'])\n",
    "\n",
    "model.fit(x_train, y_train, epochs=4, batch_size=512)\n",
    "results = model.evaluate(x_test, y_test)\n",
    "results"
   ]
  },
  {
   "cell_type": "code",
   "execution_count": 77,
   "metadata": {},
   "outputs": [
    {
     "name": "stdout",
     "output_type": "stream",
     "text": [
      "Epoch 1/4\n",
      "25000/25000 [==============================] - 2s 83us/step - loss: 0.1392 - accuracy: 0.8151\n",
      "Epoch 2/4\n",
      "25000/25000 [==============================] - 2s 80us/step - loss: 0.0720 - accuracy: 0.9120\n",
      "Epoch 3/4\n",
      "25000/25000 [==============================] - 2s 80us/step - loss: 0.0553 - accuracy: 0.9317\n",
      "Epoch 4/4\n",
      "25000/25000 [==============================] - 2s 80us/step - loss: 0.0446 - accuracy: 0.9464\n",
      "25000/25000 [==============================] - 2s 93us/step\n"
     ]
    },
    {
     "data": {
      "text/plain": [
       "[0.10040721739053726, 0.8665199875831604]"
      ]
     },
     "execution_count": 77,
     "metadata": {},
     "output_type": "execute_result"
    }
   ],
   "source": [
    "# binary_crossentropy 改為 mse\n",
    "\n",
    "model = models.Sequential()\n",
    "model.add(layers.Dense(32, activation='relu', input_shape=(10000,)))\n",
    "model.add(layers.Dense(32, activation='relu'))\n",
    "model.add(layers.Dense(1, activation='sigmoid'))\n",
    "\n",
    "model.compile(optimizer='rmsprop', loss='mse', metrics=['accuracy'])\n",
    "\n",
    "model.fit(x_train, y_train, epochs=4, batch_size=512)\n",
    "results = model.evaluate(x_test, y_test)\n",
    "results"
   ]
  },
  {
   "cell_type": "code",
   "execution_count": 79,
   "metadata": {},
   "outputs": [
    {
     "name": "stdout",
     "output_type": "stream",
     "text": [
      "Epoch 1/4\n",
      "25000/25000 [==============================] - 2s 86us/step - loss: 0.3947 - accuracy: 0.8296\n",
      "Epoch 2/4\n",
      "25000/25000 [==============================] - 2s 81us/step - loss: 0.2204 - accuracy: 0.9136\n",
      "Epoch 3/4\n",
      "25000/25000 [==============================] - 2s 80us/step - loss: 0.1721 - accuracy: 0.9343\n",
      "Epoch 4/4\n",
      "25000/25000 [==============================] - 2s 83us/step - loss: 0.1491 - accuracy: 0.9434\n",
      "25000/25000 [==============================] - 3s 102us/step\n"
     ]
    },
    {
     "data": {
      "text/plain": [
       "[0.481348820476532, 0.8306400179862976]"
      ]
     },
     "execution_count": 79,
     "metadata": {},
     "output_type": "execute_result"
    }
   ],
   "source": [
    "# 啟動函式改為tanh --> 以前在類神經很多人用的方法\n",
    "\n",
    "model = models.Sequential()\n",
    "model.add(layers.Dense(32, activation='tanh', input_shape=(10000,)))\n",
    "model.add(layers.Dense(32, activation='tanh'))\n",
    "model.add(layers.Dense(1, activation='sigmoid'))\n",
    "\n",
    "model.compile(optimizer='rmsprop', loss='binary_crossentropy', metrics=['accuracy'])\n",
    "\n",
    "model.fit(x_train, y_train, epochs=4, batch_size=512)\n",
    "results = model.evaluate(x_test, y_test)\n",
    "results"
   ]
  },
  {
   "cell_type": "code",
   "execution_count": 80,
   "metadata": {},
   "outputs": [
    {
     "name": "stdout",
     "output_type": "stream",
     "text": [
      "Epoch 1/4\n",
      "25000/25000 [==============================] - 2s 84us/step - loss: 0.1325 - accuracy: 0.8160\n",
      "Epoch 2/4\n",
      "25000/25000 [==============================] - 2s 81us/step - loss: 0.0651 - accuracy: 0.9142\n",
      "Epoch 3/4\n",
      "25000/25000 [==============================] - 2s 80us/step - loss: 0.0515 - accuracy: 0.9327\n",
      "Epoch 4/4\n",
      "25000/25000 [==============================] - 2s 80us/step - loss: 0.0425 - accuracy: 0.9456\n",
      "25000/25000 [==============================] - 2s 91us/step\n"
     ]
    },
    {
     "data": {
      "text/plain": [
       "[0.09987003668546676, 0.8708000183105469]"
      ]
     },
     "execution_count": 80,
     "metadata": {},
     "output_type": "execute_result"
    }
   ],
   "source": [
    "# 啟動函式改為tanh --> 以前在類神經很多人用的方法\n",
    "\n",
    "model = models.Sequential()\n",
    "model.add(layers.Dense(32, activation='tanh', input_shape=(10000,)))\n",
    "model.add(layers.Dense(32, activation='tanh'))\n",
    "model.add(layers.Dense(1, activation='sigmoid'))\n",
    "\n",
    "model.compile(optimizer='rmsprop', loss='mse', metrics=['accuracy'])\n",
    "\n",
    "model.fit(x_train, y_train, epochs=4, batch_size=512)\n",
    "results = model.evaluate(x_test, y_test)\n",
    "results"
   ]
  },
  {
   "cell_type": "code",
   "execution_count": 82,
   "metadata": {},
   "outputs": [
    {
     "name": "stdout",
     "output_type": "stream",
     "text": [
      "Epoch 1/4\n",
      "25000/25000 [==============================] - 2s 78us/step - loss: 0.1278 - accuracy: 0.8330\n",
      "Epoch 2/4\n",
      "25000/25000 [==============================] - 2s 75us/step - loss: 0.0649 - accuracy: 0.9170\n",
      "Epoch 3/4\n",
      "25000/25000 [==============================] - 2s 80us/step - loss: 0.0501 - accuracy: 0.9364\n",
      "Epoch 4/4\n",
      "25000/25000 [==============================] - 2s 79us/step - loss: 0.0437 - accuracy: 0.9447\n",
      "25000/25000 [==============================] - 2s 90us/step\n"
     ]
    },
    {
     "data": {
      "text/plain": [
       "[0.09604151120662689, 0.8750799894332886]"
      ]
     },
     "execution_count": 82,
     "metadata": {},
     "output_type": "execute_result"
    }
   ],
   "source": [
    "# 啟動函式改為tanh --> 以前在類神經很多人用的方法\n",
    "\n",
    "model = models.Sequential()\n",
    "model.add(layers.Dense(16, activation='tanh', input_shape=(10000,)))\n",
    "model.add(layers.Dense(16, activation='tanh'))\n",
    "model.add(layers.Dense(16, activation='tanh'))\n",
    "model.add(layers.Dense(1, activation='sigmoid'))\n",
    "\n",
    "model.compile(optimizer='rmsprop', loss='mse', metrics=['accuracy'])\n",
    "\n",
    "model.fit(x_train, y_train, epochs=4, batch_size=512)\n",
    "results = model.evaluate(x_test, y_test)\n",
    "results"
   ]
  },
  {
   "cell_type": "code",
   "execution_count": 83,
   "metadata": {},
   "outputs": [
    {
     "name": "stdout",
     "output_type": "stream",
     "text": [
      "Epoch 1/4\n",
      "25000/25000 [==============================] - 2s 78us/step - loss: 0.1333 - accuracy: 0.8189\n",
      "Epoch 2/4\n",
      "25000/25000 [==============================] - 2s 74us/step - loss: 0.0670 - accuracy: 0.9120\n",
      "Epoch 3/4\n",
      "25000/25000 [==============================] - 2s 74us/step - loss: 0.0515 - accuracy: 0.9352\n",
      "Epoch 4/4\n",
      "25000/25000 [==============================] - 2s 74us/step - loss: 0.0436 - accuracy: 0.9464\n",
      "25000/25000 [==============================] - 2s 90us/step\n"
     ]
    },
    {
     "data": {
      "text/plain": [
       "[0.10668793509326875, 0.864799976348877]"
      ]
     },
     "execution_count": 83,
     "metadata": {},
     "output_type": "execute_result"
    }
   ],
   "source": [
    "# 啟動函式改為tanh --> 以前在類神經很多人用的方法\n",
    "\n",
    "model = models.Sequential()\n",
    "model.add(layers.Dense(16, activation='tanh', input_shape=(10000,)))\n",
    "model.add(layers.Dense(16, activation='tanh'))\n",
    "model.add(layers.Dense(16, activation='tanh'))\n",
    "model.add(layers.Dense(16, activation='tanh'))\n",
    "\n",
    "model.add(layers.Dense(1, activation='sigmoid'))\n",
    "\n",
    "model.compile(optimizer='rmsprop', loss='mse', metrics=['accuracy'])\n",
    "\n",
    "model.fit(x_train, y_train, epochs=4, batch_size=512)\n",
    "results = model.evaluate(x_test, y_test)\n",
    "results"
   ]
  },
  {
   "cell_type": "markdown",
   "metadata": {},
   "source": [
    "----\n",
    "## ch3-5 分類數位新聞專欄：多類別的分類問題\n",
    "\n",
    "- 以路透社的數位新聞為例\n",
    "- 路透社資料集(Reuters dataset)和IMDB, MNIST一樣，也內建在Keras中"
   ]
  },
  {
   "cell_type": "code",
   "execution_count": 84,
   "metadata": {},
   "outputs": [
    {
     "name": "stdout",
     "output_type": "stream",
     "text": [
      "Downloading data from https://s3.amazonaws.com/text-datasets/reuters.npz\n",
      "2113536/2110848 [==============================] - 11s 5us/step\n"
     ]
    }
   ],
   "source": [
    "# 路透社資料集\n",
    "from keras.datasets import reuters\n",
    "\n",
    "(train_data, train_labels), (test_data, test_labels) = reuters.load_data(num_words=10000)"
   ]
  },
  {
   "cell_type": "code",
   "execution_count": 85,
   "metadata": {},
   "outputs": [
    {
     "data": {
      "text/plain": [
       "(8982, 2246)"
      ]
     },
     "execution_count": 85,
     "metadata": {},
     "output_type": "execute_result"
    }
   ],
   "source": [
    "len(train_data), len(test_data)"
   ]
  },
  {
   "cell_type": "code",
   "execution_count": 86,
   "metadata": {},
   "outputs": [
    {
     "name": "stdout",
     "output_type": "stream",
     "text": [
      "Downloading data from https://s3.amazonaws.com/text-datasets/reuters_word_index.json\n",
      "557056/550378 [==============================] - 3s 6us/step\n"
     ]
    }
   ],
   "source": [
    "word_index = reuters.get_word_index()\n",
    "reverse_word_index = dict([(value, key) for (key, value) in word_index.items()])\n",
    "decoded_newswire = ' '.join([reverse_word_index.get(i-3, '?') for i in train_data[0]])"
   ]
  },
  {
   "cell_type": "code",
   "execution_count": 87,
   "metadata": {},
   "outputs": [
    {
     "data": {
      "text/plain": [
       "'? ? ? said as a result of its december acquisition of space co it expects earnings per share in 1987 of 1 15 to 1 30 dlrs per share up from 70 cts in 1986 the company said pretax net should rise to nine to 10 mln dlrs from six mln dlrs in 1986 and rental operation revenues to 19 to 22 mln dlrs from 12 5 mln dlrs it said cash flow per share this year should be 2 50 to three dlrs reuter 3'"
      ]
     },
     "execution_count": 87,
     "metadata": {},
     "output_type": "execute_result"
    }
   ],
   "source": [
    "decoded_newswire"
   ]
  },
  {
   "cell_type": "code",
   "execution_count": 89,
   "metadata": {},
   "outputs": [],
   "source": [
    "import numpy as np\n",
    "\n",
    "def vectorize_sequences(sequences, dimension=10000):\n",
    "    results = np.zeros((len(sequences), dimension))\n",
    "    for i, sequence in enumerate(sequences):\n",
    "        results[i, sequence] = 1.\n",
    "    return results\n",
    "\n",
    "x_train = vectorize_sequences(train_data)\n",
    "x_test = vectorize_sequences(test_data)\n"
   ]
  },
  {
   "cell_type": "code",
   "execution_count": 90,
   "metadata": {},
   "outputs": [],
   "source": [
    "from keras import models\n",
    "from keras import layers\n",
    "\n",
    "# 定義模型\n",
    "model = models.Sequential()\n",
    "model.add(layers.Dense(64, activation='relu', input_shape=(10000,)))\n",
    "model.add(layers.Dense(64, activation='relu'))\n",
    "model.add(layers.Dense(46, activation='softmax'))\n",
    "\n",
    "# 編譯模型\n",
    "model.compile(optimizer='rmsprop', loss='binary_crossentropy', metrics=['accuracy'])\n"
   ]
  },
  {
   "cell_type": "code",
   "execution_count": 91,
   "metadata": {},
   "outputs": [],
   "source": [
    "from keras.utils.np_utils import to_categorical\n",
    "one_hot_train_labels = to_categorical(train_labels)\n",
    "one_hot_test_labels = to_categorical(test_labels)\n",
    "\n",
    "x_val = x_train[:1000]\n",
    "partial_x_train = x_train[1000:]\n",
    "\n",
    "y_val = one_hot_train_labels[:1000]\n",
    "partial_y_train = one_hot_train_labels[1000:]\n"
   ]
  },
  {
   "cell_type": "code",
   "execution_count": 93,
   "metadata": {},
   "outputs": [
    {
     "name": "stdout",
     "output_type": "stream",
     "text": [
      "Train on 7982 samples, validate on 1000 samples\n",
      "Epoch 1/20\n",
      "7982/7982 [==============================] - 1s 135us/step - loss: 0.0767 - accuracy: 0.9799 - val_loss: 0.0534 - val_accuracy: 0.9845\n",
      "Epoch 2/20\n",
      "7982/7982 [==============================] - 1s 103us/step - loss: 0.0446 - accuracy: 0.9877 - val_loss: 0.0410 - val_accuracy: 0.9892\n",
      "Epoch 3/20\n",
      "7982/7982 [==============================] - 1s 109us/step - loss: 0.0343 - accuracy: 0.9908 - val_loss: 0.0365 - val_accuracy: 0.9901\n",
      "Epoch 4/20\n",
      "7982/7982 [==============================] - 1s 106us/step - loss: 0.0280 - accuracy: 0.9922 - val_loss: 0.0339 - val_accuracy: 0.9907\n",
      "Epoch 5/20\n",
      "7982/7982 [==============================] - 1s 103us/step - loss: 0.0231 - accuracy: 0.9935 - val_loss: 0.0321 - val_accuracy: 0.9912\n",
      "Epoch 6/20\n",
      "7982/7982 [==============================] - 1s 104us/step - loss: 0.0191 - accuracy: 0.9944 - val_loss: 0.0313 - val_accuracy: 0.9915\n",
      "Epoch 7/20\n",
      "7982/7982 [==============================] - 1s 105us/step - loss: 0.0158 - accuracy: 0.9953 - val_loss: 0.0310 - val_accuracy: 0.9915\n",
      "Epoch 8/20\n",
      "7982/7982 [==============================] - 1s 105us/step - loss: 0.0134 - accuracy: 0.9960 - val_loss: 0.0302 - val_accuracy: 0.9919\n",
      "Epoch 9/20\n",
      "7982/7982 [==============================] - 1s 105us/step - loss: 0.0113 - accuracy: 0.9966 - val_loss: 0.0305 - val_accuracy: 0.9921\n",
      "Epoch 10/20\n",
      "7982/7982 [==============================] - 1s 105us/step - loss: 0.0098 - accuracy: 0.9969 - val_loss: 0.0303 - val_accuracy: 0.9924\n",
      "Epoch 11/20\n",
      "7982/7982 [==============================] - 1s 108us/step - loss: 0.0085 - accuracy: 0.9973 - val_loss: 0.0318 - val_accuracy: 0.9921\n",
      "Epoch 12/20\n",
      "7982/7982 [==============================] - 1s 110us/step - loss: 0.0076 - accuracy: 0.9975 - val_loss: 0.0309 - val_accuracy: 0.9926\n",
      "Epoch 13/20\n",
      "7982/7982 [==============================] - 1s 107us/step - loss: 0.0069 - accuracy: 0.9977 - val_loss: 0.0320 - val_accuracy: 0.9923\n",
      "Epoch 14/20\n",
      "7982/7982 [==============================] - 1s 106us/step - loss: 0.0063 - accuracy: 0.9978 - val_loss: 0.0321 - val_accuracy: 0.9925\n",
      "Epoch 15/20\n",
      "7982/7982 [==============================] - 1s 107us/step - loss: 0.0059 - accuracy: 0.9979 - val_loss: 0.0327 - val_accuracy: 0.9926\n",
      "Epoch 16/20\n",
      "7982/7982 [==============================] - 1s 107us/step - loss: 0.0055 - accuracy: 0.9980 - val_loss: 0.0343 - val_accuracy: 0.9921\n",
      "Epoch 17/20\n",
      "7982/7982 [==============================] - 1s 105us/step - loss: 0.0051 - accuracy: 0.9981 - val_loss: 0.0344 - val_accuracy: 0.9922\n",
      "Epoch 18/20\n",
      "7982/7982 [==============================] - 1s 107us/step - loss: 0.0051 - accuracy: 0.9980 - val_loss: 0.0349 - val_accuracy: 0.9920\n",
      "Epoch 19/20\n",
      "7982/7982 [==============================] - 1s 107us/step - loss: 0.0049 - accuracy: 0.9981 - val_loss: 0.0354 - val_accuracy: 0.9921\n",
      "Epoch 20/20\n",
      "7982/7982 [==============================] - 1s 108us/step - loss: 0.0046 - accuracy: 0.9982 - val_loss: 0.0363 - val_accuracy: 0.9920\n"
     ]
    }
   ],
   "source": [
    "history = model.fit(partial_x_train, partial_y_train,\n",
    "                   epochs = 20, batch_size=512,\n",
    "                   validation_data=(x_val, y_val))"
   ]
  },
  {
   "cell_type": "code",
   "execution_count": 94,
   "metadata": {
    "scrolled": true
   },
   "outputs": [
    {
     "data": {
      "image/png": "[encoded data removed]",
      "text/plain": [
       "<Figure size 432x288 with 1 Axes>"
      ]
     },
     "metadata": {
      "needs_background": "light"
     },
     "output_type": "display_data"
    }
   ],
   "source": [
    "import matplotlib.pyplot as plt\n",
    "\n",
    "loss = history.history['loss']\n",
    "val_loss = history.history['val_loss']\n",
    "\n",
    "epochs = range(1, len(loss)+1)\n",
    "\n",
    "plt.plot(epochs, loss, 'bo', label='Training loss')\n",
    "plt.plot(epochs, val_loss, 'b', label='Validation loss')\n",
    "plt.title('Training and validation loss')\n",
    "plt.xlabel('Epochs')\n",
    "plt.ylabel('Loss')\n",
    "plt.legend()\n",
    "\n",
    "plt.show()"
   ]
  },
  {
   "cell_type": "code",
   "execution_count": 98,
   "metadata": {},
   "outputs": [
    {
     "data": {
      "text/plain": [
       "dict_keys(['val_loss', 'val_accuracy', 'loss', 'accuracy'])"
      ]
     },
     "execution_count": 98,
     "metadata": {},
     "output_type": "execute_result"
    }
   ],
   "source": [
    "history.history.keys()"
   ]
  },
  {
   "cell_type": "code",
   "execution_count": 99,
   "metadata": {},
   "outputs": [
    {
     "data": {
      "image/png": "[encoded data removed]",
      "text/plain": [
       "<Figure size 432x288 with 1 Axes>"
      ]
     },
     "metadata": {
      "needs_background": "light"
     },
     "output_type": "display_data"
    }
   ],
   "source": [
    "acc = history.history['accuracy']\n",
    "val_acc = history.history['val_accuracy']\n",
    "\n",
    "plt.plot(epochs, acc, 'bo', label='Training acc')\n",
    "plt.plot(epochs, val_acc, 'b', label='Validation acc')\n",
    "plt.title('Training and validation accuracy')\n",
    "plt.xlabel('Epochs')\n",
    "plt.ylabel('Accuracy')\n",
    "plt.legend()\n",
    "\n",
    "plt.show()"
   ]
  },
  {
   "cell_type": "markdown",
   "metadata": {},
   "source": [
    "- 第9個訓練周期開始有overfitting發生，因此重頭訓練一個epoch=9的"
   ]
  },
  {
   "cell_type": "code",
   "execution_count": 100,
   "metadata": {},
   "outputs": [
    {
     "name": "stdout",
     "output_type": "stream",
     "text": [
      "Train on 7982 samples, validate on 1000 samples\n",
      "Epoch 1/9\n",
      "7982/7982 [==============================] - 1s 121us/step - loss: 0.0796 - accuracy: 0.9795 - val_loss: 0.0546 - val_accuracy: 0.9841\n",
      "Epoch 2/9\n",
      "7982/7982 [==============================] - 1s 110us/step - loss: 0.0452 - accuracy: 0.9875 - val_loss: 0.0409 - val_accuracy: 0.9895\n",
      "Epoch 3/9\n",
      "7982/7982 [==============================] - 1s 109us/step - loss: 0.0340 - accuracy: 0.9909 - val_loss: 0.0356 - val_accuracy: 0.9904\n",
      "Epoch 4/9\n",
      "7982/7982 [==============================] - 1s 116us/step - loss: 0.0275 - accuracy: 0.9924 - val_loss: 0.0330 - val_accuracy: 0.9909\n",
      "Epoch 5/9\n",
      "7982/7982 [==============================] - 1s 109us/step - loss: 0.0226 - accuracy: 0.9936 - val_loss: 0.0313 - val_accuracy: 0.9913\n",
      "Epoch 6/9\n",
      "7982/7982 [==============================] - 1s 109us/step - loss: 0.0188 - accuracy: 0.9945 - val_loss: 0.0312 - val_accuracy: 0.9915\n",
      "Epoch 7/9\n",
      "7982/7982 [==============================] - 1s 107us/step - loss: 0.0158 - accuracy: 0.9953 - val_loss: 0.0301 - val_accuracy: 0.9919\n",
      "Epoch 8/9\n",
      "7982/7982 [==============================] - 1s 104us/step - loss: 0.0132 - accuracy: 0.9960 - val_loss: 0.0312 - val_accuracy: 0.9916\n",
      "Epoch 9/9\n",
      "7982/7982 [==============================] - 1s 104us/step - loss: 0.0113 - accuracy: 0.9965 - val_loss: 0.0318 - val_accuracy: 0.9915\n",
      "2246/2246 [==============================] - 0s 121us/step\n"
     ]
    }
   ],
   "source": [
    "from keras import models\n",
    "from keras import layers\n",
    "\n",
    "# 定義模型\n",
    "model = models.Sequential()\n",
    "model.add(layers.Dense(64, activation='relu', input_shape=(10000,)))\n",
    "model.add(layers.Dense(64, activation='relu'))\n",
    "model.add(layers.Dense(46, activation='softmax'))\n",
    "\n",
    "# 編譯模型\n",
    "model.compile(optimizer='rmsprop', loss='binary_crossentropy', metrics=['accuracy'])\n",
    "\n",
    "# 訓練\n",
    "model.fit(partial_x_train, partial_y_train\n",
    "          , epochs=9, batch_size=512,\n",
    "         validation_data=(x_val, y_val))\n",
    "\n",
    "results = model.evaluate(x_test, one_hot_test_labels)"
   ]
  },
  {
   "cell_type": "code",
   "execution_count": 101,
   "metadata": {},
   "outputs": [],
   "source": [
    "# 對新資料進行預測"
   ]
  },
  {
   "cell_type": "code",
   "execution_count": 102,
   "metadata": {},
   "outputs": [],
   "source": [
    "predictions = model.predict(x_test)"
   ]
  },
  {
   "cell_type": "code",
   "execution_count": 103,
   "metadata": {},
   "outputs": [
    {
     "data": {
      "text/plain": [
       "(46,)"
      ]
     },
     "execution_count": 103,
     "metadata": {},
     "output_type": "execute_result"
    }
   ],
   "source": [
    "predictions[0].shape"
   ]
  },
  {
   "cell_type": "code",
   "execution_count": 105,
   "metadata": {},
   "outputs": [
    {
     "data": {
      "text/plain": [
       "0.94103616"
      ]
     },
     "execution_count": 105,
     "metadata": {},
     "output_type": "execute_result"
    }
   ],
   "source": [
    "max(predictions[0])"
   ]
  },
  {
   "cell_type": "code",
   "execution_count": 106,
   "metadata": {},
   "outputs": [
    {
     "data": {
      "text/plain": [
       "array([3.4247551e-05, 9.6719768e-06, 3.4964730e-06, 9.4103616e-01,\n",
       "       5.7705980e-02, 2.0725856e-06, 9.6832182e-06, 5.4241677e-06,\n",
       "       8.8945402e-05, 3.5822701e-05, 1.5153906e-06, 5.7772661e-05,\n",
       "       1.2772246e-05, 9.1854599e-06, 3.9836264e-06, 4.6499508e-06,\n",
       "       6.5653127e-05, 8.4352716e-05, 1.2360835e-05, 2.1280197e-04,\n",
       "       1.7614753e-04, 1.6433298e-05, 8.5754891e-07, 8.3309336e-05,\n",
       "       6.2246033e-07, 2.0525331e-05, 2.1452468e-07, 8.2103716e-06,\n",
       "       1.4784864e-04, 1.5100895e-05, 1.8892418e-07, 3.3468964e-06,\n",
       "       4.2332329e-05, 2.3500281e-06, 3.7093644e-06, 6.0774659e-07,\n",
       "       1.2482774e-06, 1.0594962e-06, 2.2054187e-06, 4.6385481e-05,\n",
       "       7.4351506e-06, 3.9411697e-07, 1.3089672e-06, 1.3644682e-05,\n",
       "       4.2987708e-06, 3.7179993e-06], dtype=float32)"
      ]
     },
     "execution_count": 106,
     "metadata": {},
     "output_type": "execute_result"
    }
   ],
   "source": [
    "predictions[0]"
   ]
  },
  {
   "cell_type": "code",
   "execution_count": 107,
   "metadata": {},
   "outputs": [
    {
     "data": {
      "text/plain": [
       "3"
      ]
     },
     "execution_count": 107,
     "metadata": {},
     "output_type": "execute_result"
    }
   ],
   "source": [
    "np.argmax(predictions[0])"
   ]
  },
  {
   "cell_type": "markdown",
   "metadata": {},
   "source": [
    "- "
   ]
  },
  {
   "cell_type": "code",
   "execution_count": 108,
   "metadata": {},
   "outputs": [
    {
     "name": "stdout",
     "output_type": "stream",
     "text": [
      "Train on 7982 samples, validate on 1000 samples\n",
      "Epoch 1/20\n",
      "7982/7982 [==============================] - 1s 129us/step - loss: 3.5638 - accuracy: 0.0530 - val_loss: 3.3253 - val_accuracy: 0.0680\n",
      "Epoch 2/20\n",
      "7982/7982 [==============================] - 1s 103us/step - loss: 3.1275 - accuracy: 0.2334 - val_loss: 2.9902 - val_accuracy: 0.3780\n",
      "Epoch 3/20\n",
      "7982/7982 [==============================] - 1s 100us/step - loss: 2.7526 - accuracy: 0.4053 - val_loss: 2.6429 - val_accuracy: 0.3950\n",
      "Epoch 4/20\n",
      "7982/7982 [==============================] - 1s 102us/step - loss: 2.3719 - accuracy: 0.4198 - val_loss: 2.3030 - val_accuracy: 0.4040\n",
      "Epoch 5/20\n",
      "7982/7982 [==============================] - 1s 106us/step - loss: 2.0197 - accuracy: 0.4870 - val_loss: 2.0025 - val_accuracy: 0.5430\n",
      "Epoch 6/20\n",
      "7982/7982 [==============================] - 1s 104us/step - loss: 1.7237 - accuracy: 0.6035 - val_loss: 1.7764 - val_accuracy: 0.5840\n",
      "Epoch 7/20\n",
      "7982/7982 [==============================] - 1s 103us/step - loss: 1.5021 - accuracy: 0.6199 - val_loss: 1.6302 - val_accuracy: 0.5960\n",
      "Epoch 8/20\n",
      "7982/7982 [==============================] - 1s 102us/step - loss: 1.3533 - accuracy: 0.6466 - val_loss: 1.5360 - val_accuracy: 0.6220\n",
      "Epoch 9/20\n",
      "7982/7982 [==============================] - 1s 105us/step - loss: 1.2458 - accuracy: 0.6716 - val_loss: 1.4747 - val_accuracy: 0.6340\n",
      "Epoch 10/20\n",
      "7982/7982 [==============================] - 1s 103us/step - loss: 1.1614 - accuracy: 0.6802 - val_loss: 1.4215 - val_accuracy: 0.6330\n",
      "Epoch 11/20\n",
      "7982/7982 [==============================] - 1s 102us/step - loss: 1.0943 - accuracy: 0.6864 - val_loss: 1.3966 - val_accuracy: 0.6370\n",
      "Epoch 12/20\n",
      "7982/7982 [==============================] - 1s 104us/step - loss: 1.0339 - accuracy: 0.7023 - val_loss: 1.3905 - val_accuracy: 0.6430\n",
      "Epoch 13/20\n",
      "7982/7982 [==============================] - 1s 105us/step - loss: 0.9820 - accuracy: 0.7225 - val_loss: 1.3745 - val_accuracy: 0.6530\n",
      "Epoch 14/20\n",
      "7982/7982 [==============================] - 1s 104us/step - loss: 0.9332 - accuracy: 0.7409 - val_loss: 1.3685 - val_accuracy: 0.6580\n",
      "Epoch 15/20\n",
      "7982/7982 [==============================] - 1s 103us/step - loss: 0.8901 - accuracy: 0.7616 - val_loss: 1.3477 - val_accuracy: 0.6680\n",
      "Epoch 16/20\n",
      "7982/7982 [==============================] - 1s 103us/step - loss: 0.8484 - accuracy: 0.7756 - val_loss: 1.3627 - val_accuracy: 0.6710\n",
      "Epoch 17/20\n",
      "7982/7982 [==============================] - 1s 103us/step - loss: 0.8109 - accuracy: 0.7889 - val_loss: 1.3624 - val_accuracy: 0.6780\n",
      "Epoch 18/20\n",
      "7982/7982 [==============================] - 1s 102us/step - loss: 0.7757 - accuracy: 0.7965 - val_loss: 1.3617 - val_accuracy: 0.6800\n",
      "Epoch 19/20\n",
      "7982/7982 [==============================] - 1s 106us/step - loss: 0.7417 - accuracy: 0.8099 - val_loss: 1.3853 - val_accuracy: 0.6860\n",
      "Epoch 20/20\n",
      "7982/7982 [==============================] - 1s 106us/step - loss: 0.7098 - accuracy: 0.8193 - val_loss: 1.3759 - val_accuracy: 0.6930\n",
      "2246/2246 [==============================] - 0s 120us/step\n"
     ]
    }
   ],
   "source": [
    "from keras import models\n",
    "from keras import layers\n",
    "\n",
    "# 定義模型\n",
    "model = models.Sequential()\n",
    "model.add(layers.Dense(64, activation='relu', input_shape=(10000,)))\n",
    "model.add(layers.Dense(4, activation='relu'))\n",
    "model.add(layers.Dense(46, activation='softmax'))\n",
    "\n",
    "# 編譯模型\n",
    "model.compile(optimizer='rmsprop', loss='categorical_crossentropy', metrics=['accuracy'])\n",
    "\n",
    "# 訓練\n",
    "model.fit(partial_x_train, partial_y_train\n",
    "          , epochs=20, batch_size=512,\n",
    "         validation_data=(x_val, y_val))\n",
    "\n",
    "results = model.evaluate(x_test, one_hot_test_labels)"
   ]
  },
  {
   "cell_type": "code",
   "execution_count": 109,
   "metadata": {},
   "outputs": [
    {
     "name": "stdout",
     "output_type": "stream",
     "text": [
      "Train on 7982 samples, validate on 1000 samples\n",
      "Epoch 1/20\n",
      "7982/7982 [==============================] - 1s 154us/step - loss: 1.9534 - accuracy: 0.5874 - val_loss: 1.2594 - val_accuracy: 0.7100\n",
      "Epoch 2/20\n",
      "7982/7982 [==============================] - 1s 147us/step - loss: 0.9939 - accuracy: 0.7781 - val_loss: 1.0144 - val_accuracy: 0.7740\n",
      "Epoch 3/20\n",
      "7982/7982 [==============================] - 1s 150us/step - loss: 0.6427 - accuracy: 0.8616 - val_loss: 0.9079 - val_accuracy: 0.7980\n",
      "Epoch 4/20\n",
      "7982/7982 [==============================] - 1s 148us/step - loss: 0.4474 - accuracy: 0.9055 - val_loss: 0.8905 - val_accuracy: 0.8040\n",
      "Epoch 5/20\n",
      "7982/7982 [==============================] - 1s 148us/step - loss: 0.3146 - accuracy: 0.9336 - val_loss: 0.8707 - val_accuracy: 0.8160\n",
      "Epoch 6/20\n",
      "7982/7982 [==============================] - 1s 146us/step - loss: 0.2412 - accuracy: 0.9442 - val_loss: 0.8620 - val_accuracy: 0.8260\n",
      "Epoch 7/20\n",
      "7982/7982 [==============================] - 1s 146us/step - loss: 0.1919 - accuracy: 0.9521 - val_loss: 1.0641 - val_accuracy: 0.7710\n",
      "Epoch 8/20\n",
      "7982/7982 [==============================] - 1s 147us/step - loss: 0.1750 - accuracy: 0.9509 - val_loss: 0.9459 - val_accuracy: 0.8120\n",
      "Epoch 9/20\n",
      "7982/7982 [==============================] - 1s 150us/step - loss: 0.1654 - accuracy: 0.9534 - val_loss: 0.9082 - val_accuracy: 0.8180\n",
      "Epoch 10/20\n",
      "7982/7982 [==============================] - 1s 149us/step - loss: 0.1412 - accuracy: 0.9536 - val_loss: 1.0084 - val_accuracy: 0.8050\n",
      "Epoch 11/20\n",
      "7982/7982 [==============================] - 1s 149us/step - loss: 0.1307 - accuracy: 0.9559 - val_loss: 1.0226 - val_accuracy: 0.8030\n",
      "Epoch 12/20\n",
      "7982/7982 [==============================] - 1s 148us/step - loss: 0.1293 - accuracy: 0.9564 - val_loss: 1.0166 - val_accuracy: 0.8110\n",
      "Epoch 13/20\n",
      "7982/7982 [==============================] - 1s 152us/step - loss: 0.1170 - accuracy: 0.9574 - val_loss: 0.9946 - val_accuracy: 0.8170\n",
      "Epoch 14/20\n",
      "7982/7982 [==============================] - 1s 149us/step - loss: 0.1145 - accuracy: 0.9572 - val_loss: 1.0451 - val_accuracy: 0.7910\n",
      "Epoch 15/20\n",
      "7982/7982 [==============================] - 1s 150us/step - loss: 0.1124 - accuracy: 0.9560 - val_loss: 1.0793 - val_accuracy: 0.7990\n",
      "Epoch 16/20\n",
      "7982/7982 [==============================] - 1s 158us/step - loss: 0.1056 - accuracy: 0.9578 - val_loss: 1.0868 - val_accuracy: 0.8050\n",
      "Epoch 17/20\n",
      "7982/7982 [==============================] - 1s 185us/step - loss: 0.1017 - accuracy: 0.9565 - val_loss: 1.0574 - val_accuracy: 0.8080\n",
      "Epoch 18/20\n",
      "7982/7982 [==============================] - 1s 186us/step - loss: 0.1066 - accuracy: 0.9567 - val_loss: 1.0727 - val_accuracy: 0.8100\n",
      "Epoch 19/20\n",
      "7982/7982 [==============================] - 1s 182us/step - loss: 0.0995 - accuracy: 0.9582 - val_loss: 1.0973 - val_accuracy: 0.8050\n",
      "Epoch 20/20\n",
      "7982/7982 [==============================] - 1s 180us/step - loss: 0.0953 - accuracy: 0.9580 - val_loss: 1.1014 - val_accuracy: 0.7970\n",
      "2246/2246 [==============================] - 0s 159us/step\n"
     ]
    }
   ],
   "source": [
    "from keras import models\n",
    "from keras import layers\n",
    "\n",
    "# 定義模型\n",
    "model = models.Sequential()\n",
    "model.add(layers.Dense(200, activation='relu', input_shape=(10000,)))\n",
    "model.add(layers.Dense(200, activation='relu'))\n",
    "model.add(layers.Dense(46, activation='softmax'))\n",
    "\n",
    "# 編譯模型\n",
    "model.compile(optimizer='rmsprop', loss='categorical_crossentropy', metrics=['accuracy'])\n",
    "\n",
    "# 訓練\n",
    "model.fit(partial_x_train, partial_y_train\n",
    "          , epochs=20, batch_size=512,\n",
    "         validation_data=(x_val, y_val))\n",
    "\n",
    "results = model.evaluate(x_test, one_hot_test_labels)"
   ]
  },
  {
   "cell_type": "code",
   "execution_count": null,
   "metadata": {},
   "outputs": [],
   "source": []
  }
 ],
 "metadata": {
  "kernelspec": {
   "display_name": "Python 3",
   "language": "python",
   "name": "python3"
  },
  "language_info": {
   "codemirror_mode": {
    "name": "ipython",
    "version": 3
   },
   "file_extension": ".py",
   "mimetype": "text/x-python",
   "name": "python",
   "nbconvert_exporter": "python",
   "pygments_lexer": "ipython3",
   "version": "3.7.4"
  }
 },
 "nbformat": 4,
 "nbformat_minor": 2
}
